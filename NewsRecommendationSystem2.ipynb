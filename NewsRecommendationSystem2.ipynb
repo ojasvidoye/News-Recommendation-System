{
 "cells": [
  {
   "cell_type": "markdown",
   "id": "cce47fbf",
   "metadata": {},
   "source": [
    "# News Recommendation System\n"
   ]
  },
  {
   "cell_type": "markdown",
   "id": "2939ff51",
   "metadata": {},
   "source": [
    "The News Article Recommendation System is a project designed to provide personalized article recommendations based on the content of news headlines. The system utilizes natural language processing (NLP) techniques and machine learning algorithms to analyze and understand the similarities between news articles, enabling it to suggest relevant articles to users based on their interests.\n",
    "The goal of this project is to enhance the user experience by offering curated article recommendations that align with their preferences and reading habits. By leveraging the power of NLP, the system identifies the underlying semantic meaning of news headlines and establishes connections between different articles, thereby providing users with a tailored selection of articles that match their interests."
   ]
  },
  {
   "cell_type": "markdown",
   "id": "6b6e55f2",
   "metadata": {},
   "source": [
    "## Importing necessary Libraries\n"
   ]
  },
  {
   "cell_type": "code",
   "execution_count": 25,
   "id": "353ffd5f",
   "metadata": {},
   "outputs": [],
   "source": [
    "import numpy as np\n",
    "import pandas as pd\n",
    "\n",
    "import os\n",
    "import math\n",
    "import time\n",
    "\n",
    "import matplotlib.pyplot as plt\n",
    "import seaborn as sns\n",
    "\n",
    "import nltk\n",
    "\n",
    "from nltk.corpus import stopwords\n",
    "from nltk.tokenize import word_tokenize\n",
    "from nltk.stem import WordNetLemmatizer\n",
    "\n",
    "# Below libraries are for feature representation using sklearn\n",
    "from sklearn.feature_extraction.text import CountVectorizer\n",
    "from sklearn.feature_extraction.text import TfidfVectorizer\n",
    "\n",
    "from sklearn.metrics import pairwise_distances"
   ]
  },
  {
   "cell_type": "markdown",
   "id": "c3f4eb1f",
   "metadata": {},
   "source": [
    "## Loading Data"
   ]
  },
  {
   "cell_type": "code",
   "execution_count": 2,
   "id": "9511359c",
   "metadata": {},
   "outputs": [],
   "source": [
    "raw_df = pd.read_json(\"News_Category_Dataset_v2.json\", lines = True)"
   ]
  },
  {
   "cell_type": "code",
   "execution_count": 3,
   "id": "eeb4f7ee",
   "metadata": {},
   "outputs": [
    {
     "name": "stdout",
     "output_type": "stream",
     "text": [
      "<class 'pandas.core.frame.DataFrame'>\n",
      "RangeIndex: 200853 entries, 0 to 200852\n",
      "Data columns (total 6 columns):\n",
      " #   Column             Non-Null Count   Dtype         \n",
      "---  ------             --------------   -----         \n",
      " 0   category           200853 non-null  object        \n",
      " 1   headline           200853 non-null  object        \n",
      " 2   authors            200853 non-null  object        \n",
      " 3   link               200853 non-null  object        \n",
      " 4   short_description  200853 non-null  object        \n",
      " 5   date               200853 non-null  datetime64[ns]\n",
      "dtypes: datetime64[ns](1), object(5)\n",
      "memory usage: 9.2+ MB\n"
     ]
    }
   ],
   "source": [
    "raw_df.info()"
   ]
  },
  {
   "cell_type": "code",
   "execution_count": 4,
   "id": "25bf8ee3",
   "metadata": {},
   "outputs": [
    {
     "name": "stderr",
     "output_type": "stream",
     "text": [
      "C:\\Users\\Ojasvi Doye\\AppData\\Local\\Temp\\ipykernel_8228\\2990293585.py:1: FutureWarning: Treating datetime data as categorical rather than numeric in `.describe` is deprecated and will be removed in a future version of pandas. Specify `datetime_is_numeric=True` to silence this warning and adopt the future behavior now.\n",
      "  raw_df.describe()\n"
     ]
    },
    {
     "data": {
      "text/html": [
       "<div>\n",
       "<style scoped>\n",
       "    .dataframe tbody tr th:only-of-type {\n",
       "        vertical-align: middle;\n",
       "    }\n",
       "\n",
       "    .dataframe tbody tr th {\n",
       "        vertical-align: top;\n",
       "    }\n",
       "\n",
       "    .dataframe thead th {\n",
       "        text-align: right;\n",
       "    }\n",
       "</style>\n",
       "<table border=\"1\" class=\"dataframe\">\n",
       "  <thead>\n",
       "    <tr style=\"text-align: right;\">\n",
       "      <th></th>\n",
       "      <th>category</th>\n",
       "      <th>headline</th>\n",
       "      <th>authors</th>\n",
       "      <th>link</th>\n",
       "      <th>short_description</th>\n",
       "      <th>date</th>\n",
       "    </tr>\n",
       "  </thead>\n",
       "  <tbody>\n",
       "    <tr>\n",
       "      <th>count</th>\n",
       "      <td>200853</td>\n",
       "      <td>200853</td>\n",
       "      <td>200853</td>\n",
       "      <td>200853</td>\n",
       "      <td>200853</td>\n",
       "      <td>200853</td>\n",
       "    </tr>\n",
       "    <tr>\n",
       "      <th>unique</th>\n",
       "      <td>41</td>\n",
       "      <td>199344</td>\n",
       "      <td>27993</td>\n",
       "      <td>200812</td>\n",
       "      <td>178353</td>\n",
       "      <td>2309</td>\n",
       "    </tr>\n",
       "    <tr>\n",
       "      <th>top</th>\n",
       "      <td>POLITICS</td>\n",
       "      <td>Sunday Roundup</td>\n",
       "      <td></td>\n",
       "      <td>https://www.huffingtonpost.comhttp://stylelike...</td>\n",
       "      <td></td>\n",
       "      <td>2013-04-24 00:00:00</td>\n",
       "    </tr>\n",
       "    <tr>\n",
       "      <th>freq</th>\n",
       "      <td>32739</td>\n",
       "      <td>90</td>\n",
       "      <td>36620</td>\n",
       "      <td>2</td>\n",
       "      <td>19712</td>\n",
       "      <td>100</td>\n",
       "    </tr>\n",
       "    <tr>\n",
       "      <th>first</th>\n",
       "      <td>NaN</td>\n",
       "      <td>NaN</td>\n",
       "      <td>NaN</td>\n",
       "      <td>NaN</td>\n",
       "      <td>NaN</td>\n",
       "      <td>2012-01-28 00:00:00</td>\n",
       "    </tr>\n",
       "    <tr>\n",
       "      <th>last</th>\n",
       "      <td>NaN</td>\n",
       "      <td>NaN</td>\n",
       "      <td>NaN</td>\n",
       "      <td>NaN</td>\n",
       "      <td>NaN</td>\n",
       "      <td>2018-05-26 00:00:00</td>\n",
       "    </tr>\n",
       "  </tbody>\n",
       "</table>\n",
       "</div>"
      ],
      "text/plain": [
       "        category        headline authors  \\\n",
       "count     200853          200853  200853   \n",
       "unique        41          199344   27993   \n",
       "top     POLITICS  Sunday Roundup           \n",
       "freq       32739              90   36620   \n",
       "first        NaN             NaN     NaN   \n",
       "last         NaN             NaN     NaN   \n",
       "\n",
       "                                                     link short_description  \\\n",
       "count                                              200853            200853   \n",
       "unique                                             200812            178353   \n",
       "top     https://www.huffingtonpost.comhttp://stylelike...                     \n",
       "freq                                                    2             19712   \n",
       "first                                                 NaN               NaN   \n",
       "last                                                  NaN               NaN   \n",
       "\n",
       "                       date  \n",
       "count                200853  \n",
       "unique                 2309  \n",
       "top     2013-04-24 00:00:00  \n",
       "freq                    100  \n",
       "first   2012-01-28 00:00:00  \n",
       "last    2018-05-26 00:00:00  "
      ]
     },
     "execution_count": 4,
     "metadata": {},
     "output_type": "execute_result"
    }
   ],
   "source": [
    "raw_df.describe()"
   ]
  },
  {
   "cell_type": "code",
   "execution_count": 5,
   "id": "20eace57",
   "metadata": {},
   "outputs": [
    {
     "data": {
      "text/plain": [
       "Index(['category', 'headline', 'authors', 'link', 'short_description', 'date'], dtype='object')"
      ]
     },
     "execution_count": 5,
     "metadata": {},
     "output_type": "execute_result"
    }
   ],
   "source": [
    "raw_df.columns.unique()"
   ]
  },
  {
   "cell_type": "code",
   "execution_count": 6,
   "id": "b87eb9e8",
   "metadata": {},
   "outputs": [
    {
     "data": {
      "text/html": [
       "<div>\n",
       "<style scoped>\n",
       "    .dataframe tbody tr th:only-of-type {\n",
       "        vertical-align: middle;\n",
       "    }\n",
       "\n",
       "    .dataframe tbody tr th {\n",
       "        vertical-align: top;\n",
       "    }\n",
       "\n",
       "    .dataframe thead th {\n",
       "        text-align: right;\n",
       "    }\n",
       "</style>\n",
       "<table border=\"1\" class=\"dataframe\">\n",
       "  <thead>\n",
       "    <tr style=\"text-align: right;\">\n",
       "      <th></th>\n",
       "      <th>category</th>\n",
       "      <th>headline</th>\n",
       "      <th>authors</th>\n",
       "      <th>link</th>\n",
       "      <th>short_description</th>\n",
       "      <th>date</th>\n",
       "    </tr>\n",
       "  </thead>\n",
       "  <tbody>\n",
       "    <tr>\n",
       "      <th>0</th>\n",
       "      <td>CRIME</td>\n",
       "      <td>There Were 2 Mass Shootings In Texas Last Week...</td>\n",
       "      <td>Melissa Jeltsen</td>\n",
       "      <td>https://www.huffingtonpost.com/entry/texas-ama...</td>\n",
       "      <td>She left her husband. He killed their children...</td>\n",
       "      <td>2018-05-26</td>\n",
       "    </tr>\n",
       "    <tr>\n",
       "      <th>1</th>\n",
       "      <td>ENTERTAINMENT</td>\n",
       "      <td>Will Smith Joins Diplo And Nicky Jam For The 2...</td>\n",
       "      <td>Andy McDonald</td>\n",
       "      <td>https://www.huffingtonpost.com/entry/will-smit...</td>\n",
       "      <td>Of course it has a song.</td>\n",
       "      <td>2018-05-26</td>\n",
       "    </tr>\n",
       "    <tr>\n",
       "      <th>2</th>\n",
       "      <td>ENTERTAINMENT</td>\n",
       "      <td>Hugh Grant Marries For The First Time At Age 57</td>\n",
       "      <td>Ron Dicker</td>\n",
       "      <td>https://www.huffingtonpost.com/entry/hugh-gran...</td>\n",
       "      <td>The actor and his longtime girlfriend Anna Ebe...</td>\n",
       "      <td>2018-05-26</td>\n",
       "    </tr>\n",
       "    <tr>\n",
       "      <th>3</th>\n",
       "      <td>ENTERTAINMENT</td>\n",
       "      <td>Jim Carrey Blasts 'Castrato' Adam Schiff And D...</td>\n",
       "      <td>Ron Dicker</td>\n",
       "      <td>https://www.huffingtonpost.com/entry/jim-carre...</td>\n",
       "      <td>The actor gives Dems an ass-kicking for not fi...</td>\n",
       "      <td>2018-05-26</td>\n",
       "    </tr>\n",
       "    <tr>\n",
       "      <th>4</th>\n",
       "      <td>ENTERTAINMENT</td>\n",
       "      <td>Julianna Margulies Uses Donald Trump Poop Bags...</td>\n",
       "      <td>Ron Dicker</td>\n",
       "      <td>https://www.huffingtonpost.com/entry/julianna-...</td>\n",
       "      <td>The \"Dietland\" actress said using the bags is ...</td>\n",
       "      <td>2018-05-26</td>\n",
       "    </tr>\n",
       "  </tbody>\n",
       "</table>\n",
       "</div>"
      ],
      "text/plain": [
       "        category                                           headline  \\\n",
       "0          CRIME  There Were 2 Mass Shootings In Texas Last Week...   \n",
       "1  ENTERTAINMENT  Will Smith Joins Diplo And Nicky Jam For The 2...   \n",
       "2  ENTERTAINMENT    Hugh Grant Marries For The First Time At Age 57   \n",
       "3  ENTERTAINMENT  Jim Carrey Blasts 'Castrato' Adam Schiff And D...   \n",
       "4  ENTERTAINMENT  Julianna Margulies Uses Donald Trump Poop Bags...   \n",
       "\n",
       "           authors                                               link  \\\n",
       "0  Melissa Jeltsen  https://www.huffingtonpost.com/entry/texas-ama...   \n",
       "1    Andy McDonald  https://www.huffingtonpost.com/entry/will-smit...   \n",
       "2       Ron Dicker  https://www.huffingtonpost.com/entry/hugh-gran...   \n",
       "3       Ron Dicker  https://www.huffingtonpost.com/entry/jim-carre...   \n",
       "4       Ron Dicker  https://www.huffingtonpost.com/entry/julianna-...   \n",
       "\n",
       "                                   short_description       date  \n",
       "0  She left her husband. He killed their children... 2018-05-26  \n",
       "1                           Of course it has a song. 2018-05-26  \n",
       "2  The actor and his longtime girlfriend Anna Ebe... 2018-05-26  \n",
       "3  The actor gives Dems an ass-kicking for not fi... 2018-05-26  \n",
       "4  The \"Dietland\" actress said using the bags is ... 2018-05-26  "
      ]
     },
     "execution_count": 6,
     "metadata": {},
     "output_type": "execute_result"
    }
   ],
   "source": [
    "raw_df.head()"
   ]
  },
  {
   "cell_type": "code",
   "execution_count": 7,
   "id": "30976d91",
   "metadata": {},
   "outputs": [
    {
     "data": {
      "text/html": [
       "<div>\n",
       "<style scoped>\n",
       "    .dataframe tbody tr th:only-of-type {\n",
       "        vertical-align: middle;\n",
       "    }\n",
       "\n",
       "    .dataframe tbody tr th {\n",
       "        vertical-align: top;\n",
       "    }\n",
       "\n",
       "    .dataframe thead th {\n",
       "        text-align: right;\n",
       "    }\n",
       "</style>\n",
       "<table border=\"1\" class=\"dataframe\">\n",
       "  <thead>\n",
       "    <tr style=\"text-align: right;\">\n",
       "      <th></th>\n",
       "      <th>category</th>\n",
       "      <th>headline</th>\n",
       "      <th>authors</th>\n",
       "      <th>link</th>\n",
       "      <th>short_description</th>\n",
       "      <th>date</th>\n",
       "    </tr>\n",
       "  </thead>\n",
       "  <tbody>\n",
       "    <tr>\n",
       "      <th>200848</th>\n",
       "      <td>TECH</td>\n",
       "      <td>RIM CEO Thorsten Heins' 'Significant' Plans Fo...</td>\n",
       "      <td>Reuters, Reuters</td>\n",
       "      <td>https://www.huffingtonpost.com/entry/rim-ceo-t...</td>\n",
       "      <td>Verizon Wireless and AT&amp;T are already promotin...</td>\n",
       "      <td>2012-01-28</td>\n",
       "    </tr>\n",
       "    <tr>\n",
       "      <th>200849</th>\n",
       "      <td>SPORTS</td>\n",
       "      <td>Maria Sharapova Stunned By Victoria Azarenka I...</td>\n",
       "      <td></td>\n",
       "      <td>https://www.huffingtonpost.com/entry/maria-sha...</td>\n",
       "      <td>Afterward, Azarenka, more effusive with the pr...</td>\n",
       "      <td>2012-01-28</td>\n",
       "    </tr>\n",
       "    <tr>\n",
       "      <th>200850</th>\n",
       "      <td>SPORTS</td>\n",
       "      <td>Giants Over Patriots, Jets Over Colts Among  M...</td>\n",
       "      <td></td>\n",
       "      <td>https://www.huffingtonpost.com/entry/super-bow...</td>\n",
       "      <td>Leading up to Super Bowl XLVI, the most talked...</td>\n",
       "      <td>2012-01-28</td>\n",
       "    </tr>\n",
       "    <tr>\n",
       "      <th>200851</th>\n",
       "      <td>SPORTS</td>\n",
       "      <td>Aldon Smith Arrested: 49ers Linebacker Busted ...</td>\n",
       "      <td></td>\n",
       "      <td>https://www.huffingtonpost.com/entry/aldon-smi...</td>\n",
       "      <td>CORRECTION: An earlier version of this story i...</td>\n",
       "      <td>2012-01-28</td>\n",
       "    </tr>\n",
       "    <tr>\n",
       "      <th>200852</th>\n",
       "      <td>SPORTS</td>\n",
       "      <td>Dwight Howard Rips Teammates After Magic Loss ...</td>\n",
       "      <td></td>\n",
       "      <td>https://www.huffingtonpost.com/entry/dwight-ho...</td>\n",
       "      <td>The five-time all-star center tore into his te...</td>\n",
       "      <td>2012-01-28</td>\n",
       "    </tr>\n",
       "  </tbody>\n",
       "</table>\n",
       "</div>"
      ],
      "text/plain": [
       "       category                                           headline  \\\n",
       "200848     TECH  RIM CEO Thorsten Heins' 'Significant' Plans Fo...   \n",
       "200849   SPORTS  Maria Sharapova Stunned By Victoria Azarenka I...   \n",
       "200850   SPORTS  Giants Over Patriots, Jets Over Colts Among  M...   \n",
       "200851   SPORTS  Aldon Smith Arrested: 49ers Linebacker Busted ...   \n",
       "200852   SPORTS  Dwight Howard Rips Teammates After Magic Loss ...   \n",
       "\n",
       "                 authors                                               link  \\\n",
       "200848  Reuters, Reuters  https://www.huffingtonpost.com/entry/rim-ceo-t...   \n",
       "200849                    https://www.huffingtonpost.com/entry/maria-sha...   \n",
       "200850                    https://www.huffingtonpost.com/entry/super-bow...   \n",
       "200851                    https://www.huffingtonpost.com/entry/aldon-smi...   \n",
       "200852                    https://www.huffingtonpost.com/entry/dwight-ho...   \n",
       "\n",
       "                                        short_description       date  \n",
       "200848  Verizon Wireless and AT&T are already promotin... 2012-01-28  \n",
       "200849  Afterward, Azarenka, more effusive with the pr... 2012-01-28  \n",
       "200850  Leading up to Super Bowl XLVI, the most talked... 2012-01-28  \n",
       "200851  CORRECTION: An earlier version of this story i... 2012-01-28  \n",
       "200852  The five-time all-star center tore into his te... 2012-01-28  "
      ]
     },
     "execution_count": 7,
     "metadata": {},
     "output_type": "execute_result"
    }
   ],
   "source": [
    "raw_df.tail()"
   ]
  },
  {
   "cell_type": "markdown",
   "id": "c3925475",
   "metadata": {},
   "source": [
    "## Data Preprocessing"
   ]
  },
  {
   "cell_type": "markdown",
   "id": "74a2a77b",
   "metadata": {},
   "source": [
    "#### Fetching only the articles from 2018"
   ]
  },
  {
   "cell_type": "markdown",
   "id": "37e19520",
   "metadata": {},
   "source": [
    "Since the dataset size is quite large so processing through entire dataset may consume too much time."
   ]
  },
  {
   "cell_type": "code",
   "execution_count": 9,
   "id": "bb7325bc",
   "metadata": {},
   "outputs": [],
   "source": [
    "start_date = pd.Timestamp(2016, 1, 1)\n",
    "raw_df = raw_df[raw_df['date'] >= start_date]"
   ]
  },
  {
   "cell_type": "code",
   "execution_count": 10,
   "id": "145b3f39",
   "metadata": {},
   "outputs": [
    {
     "data": {
      "text/plain": [
       "(70570, 6)"
      ]
     },
     "execution_count": 10,
     "metadata": {},
     "output_type": "execute_result"
    }
   ],
   "source": [
    "raw_df.shape"
   ]
  },
  {
   "cell_type": "code",
   "execution_count": 13,
   "id": "94cfa34d",
   "metadata": {},
   "outputs": [
    {
     "name": "stdout",
     "output_type": "stream",
     "text": [
      "(70317, 6)\n"
     ]
    }
   ],
   "source": [
    "# Sort the DataFrame by headline in descending order\n",
    "raw_df.sort_values('headline', inplace=True, ascending=False)\n",
    "\n",
    "# Find duplicate articles based on the 'headline' column\n",
    "duplicate_raw_df = raw_df.duplicated('headline', keep=False)\n",
    "\n",
    "# Remove duplicate articles from the DataFrame\n",
    "raw_df = raw_df[~duplicate_raw_df]\n",
    "\n",
    "# Print the total number of articles after removing duplicates\n",
    "print(raw_df.shape)"
   ]
  },
  {
   "cell_type": "markdown",
   "id": "e5744c3e",
   "metadata": {},
   "source": [
    "#### Checking for null values"
   ]
  },
  {
   "cell_type": "code",
   "execution_count": 14,
   "id": "29524167",
   "metadata": {},
   "outputs": [
    {
     "data": {
      "text/plain": [
       "category             0\n",
       "headline             0\n",
       "authors              0\n",
       "link                 0\n",
       "short_description    0\n",
       "date                 0\n",
       "dtype: int64"
      ]
     },
     "execution_count": 14,
     "metadata": {},
     "output_type": "execute_result"
    }
   ],
   "source": [
    "raw_df.isna().sum()"
   ]
  },
  {
   "cell_type": "code",
   "execution_count": 15,
   "id": "8a33a17e",
   "metadata": {},
   "outputs": [
    {
     "data": {
      "text/html": [
       "<div>\n",
       "<style scoped>\n",
       "    .dataframe tbody tr th:only-of-type {\n",
       "        vertical-align: middle;\n",
       "    }\n",
       "\n",
       "    .dataframe tbody tr th {\n",
       "        vertical-align: top;\n",
       "    }\n",
       "\n",
       "    .dataframe thead th {\n",
       "        text-align: right;\n",
       "    }\n",
       "</style>\n",
       "<table border=\"1\" class=\"dataframe\">\n",
       "  <thead>\n",
       "    <tr style=\"text-align: right;\">\n",
       "      <th></th>\n",
       "      <th>index</th>\n",
       "      <th>category</th>\n",
       "      <th>headline</th>\n",
       "      <th>authors</th>\n",
       "      <th>link</th>\n",
       "      <th>short_description</th>\n",
       "      <th>date</th>\n",
       "    </tr>\n",
       "  </thead>\n",
       "  <tbody>\n",
       "    <tr>\n",
       "      <th>0</th>\n",
       "      <td>36290</td>\n",
       "      <td>WOMEN</td>\n",
       "      <td>“We Shall Overcomb!” Say The 100,000 Marching ...</td>\n",
       "      <td>Darin Graham, ContributorJournalist</td>\n",
       "      <td>https://www.huffingtonpost.com/entry/we-shall-...</td>\n",
       "      <td>Thousands of activists descended on London to ...</td>\n",
       "      <td>2017-01-25</td>\n",
       "    </tr>\n",
       "    <tr>\n",
       "      <th>1</th>\n",
       "      <td>21194</td>\n",
       "      <td>HEALTHY LIVING</td>\n",
       "      <td>“To The Bone” Didn’t Teach Me Glamour. It Taug...</td>\n",
       "      <td>Mycah Hazel, Contributorblogger, equal opportu...</td>\n",
       "      <td>https://www.huffingtonpost.com/entry/to-the-bo...</td>\n",
       "      <td>Oftentimes, films or TV shows about eating dis...</td>\n",
       "      <td>2017-07-18</td>\n",
       "    </tr>\n",
       "    <tr>\n",
       "      <th>2</th>\n",
       "      <td>29672</td>\n",
       "      <td>BUSINESS</td>\n",
       "      <td>“I’m Sorry\"--The Two Tragically Forgotten Word...</td>\n",
       "      <td>Dana Brownlee, ContributorPresident of Profess...</td>\n",
       "      <td>https://www.huffingtonpost.com/entry/im-sorryt...</td>\n",
       "      <td>Unfortunately, I was one of those frustrated p...</td>\n",
       "      <td>2017-04-10</td>\n",
       "    </tr>\n",
       "    <tr>\n",
       "      <th>3</th>\n",
       "      <td>2932</td>\n",
       "      <td>QUEER VOICES</td>\n",
       "      <td>‘Will &amp; Grace’ Creator To Donate Gay Bunny Boo...</td>\n",
       "      <td>Elyse Wanshel</td>\n",
       "      <td>https://www.huffingtonpost.com/entry/will-grac...</td>\n",
       "      <td>It's about to be a lot easier for kids in Mike...</td>\n",
       "      <td>2018-04-02</td>\n",
       "    </tr>\n",
       "    <tr>\n",
       "      <th>4</th>\n",
       "      <td>67601</td>\n",
       "      <td>WEIRD NEWS</td>\n",
       "      <td>‘Wild Boar Curling’ Rescues Stranded Wild Boar...</td>\n",
       "      <td>Nina Golgowski</td>\n",
       "      <td>https://www.huffingtonpost.com/entry/wild-boar...</td>\n",
       "      <td>Get this pig in a blanket!</td>\n",
       "      <td>2016-02-03</td>\n",
       "    </tr>\n",
       "    <tr>\n",
       "      <th>...</th>\n",
       "      <td>...</td>\n",
       "      <td>...</td>\n",
       "      <td>...</td>\n",
       "      <td>...</td>\n",
       "      <td>...</td>\n",
       "      <td>...</td>\n",
       "      <td>...</td>\n",
       "    </tr>\n",
       "    <tr>\n",
       "      <th>70312</th>\n",
       "      <td>60589</td>\n",
       "      <td>ENTERTAINMENT</td>\n",
       "      <td>\"Bosch\" Is Back and Better Than Ever</td>\n",
       "      <td>Jackie K. Cooper, ContributorFilm Critic</td>\n",
       "      <td>https://www.huffingtonpost.com/entry/bosch-is-...</td>\n",
       "      <td></td>\n",
       "      <td>2016-04-24</td>\n",
       "    </tr>\n",
       "    <tr>\n",
       "      <th>70313</th>\n",
       "      <td>68627</td>\n",
       "      <td>POLITICS</td>\n",
       "      <td>\"Black Lives Matter\" (the \"Too\" Is Silent)</td>\n",
       "      <td>Rick Horowitz, ContributorMilwaukee Public TV ...</td>\n",
       "      <td>https://www.huffingtonpost.com/entry/black-liv...</td>\n",
       "      <td>It's pretty easy to understand. Unless you're ...</td>\n",
       "      <td>2016-01-23</td>\n",
       "    </tr>\n",
       "    <tr>\n",
       "      <th>70314</th>\n",
       "      <td>50799</td>\n",
       "      <td>ENTERTAINMENT</td>\n",
       "      <td>\"Bachelors\" Is a Profanity Laden RomCom</td>\n",
       "      <td>Jackie K. Cooper, ContributorFilm Critic</td>\n",
       "      <td>https://www.huffingtonpost.com/entry/bachelors...</td>\n",
       "      <td></td>\n",
       "      <td>2016-08-13</td>\n",
       "    </tr>\n",
       "    <tr>\n",
       "      <th>70315</th>\n",
       "      <td>40225</td>\n",
       "      <td>ENTERTAINMENT</td>\n",
       "      <td>\"An International Film Festival with an Arab H...</td>\n",
       "      <td>E. Nina Rothe, ContributorCultural Activist</td>\n",
       "      <td>https://www.huffingtonpost.com/entry/an-intern...</td>\n",
       "      <td></td>\n",
       "      <td>2016-12-11</td>\n",
       "    </tr>\n",
       "    <tr>\n",
       "      <th>70316</th>\n",
       "      <td>57464</td>\n",
       "      <td>ARTS</td>\n",
       "      <td>\"Age Shall Not Weary Them\" - Shakespeare and M...</td>\n",
       "      <td>Paul_Smith, ContributorDirector, British Counc...</td>\n",
       "      <td>https://www.huffingtonpost.com/entry/age-shall...</td>\n",
       "      <td>It's a phrase that resonates as we remember th...</td>\n",
       "      <td>2016-05-30</td>\n",
       "    </tr>\n",
       "  </tbody>\n",
       "</table>\n",
       "<p>70317 rows × 7 columns</p>\n",
       "</div>"
      ],
      "text/plain": [
       "       index        category  \\\n",
       "0      36290           WOMEN   \n",
       "1      21194  HEALTHY LIVING   \n",
       "2      29672        BUSINESS   \n",
       "3       2932    QUEER VOICES   \n",
       "4      67601      WEIRD NEWS   \n",
       "...      ...             ...   \n",
       "70312  60589   ENTERTAINMENT   \n",
       "70313  68627        POLITICS   \n",
       "70314  50799   ENTERTAINMENT   \n",
       "70315  40225   ENTERTAINMENT   \n",
       "70316  57464            ARTS   \n",
       "\n",
       "                                                headline  \\\n",
       "0      “We Shall Overcomb!” Say The 100,000 Marching ...   \n",
       "1      “To The Bone” Didn’t Teach Me Glamour. It Taug...   \n",
       "2      “I’m Sorry\"--The Two Tragically Forgotten Word...   \n",
       "3      ‘Will & Grace’ Creator To Donate Gay Bunny Boo...   \n",
       "4      ‘Wild Boar Curling’ Rescues Stranded Wild Boar...   \n",
       "...                                                  ...   \n",
       "70312               \"Bosch\" Is Back and Better Than Ever   \n",
       "70313         \"Black Lives Matter\" (the \"Too\" Is Silent)   \n",
       "70314            \"Bachelors\" Is a Profanity Laden RomCom   \n",
       "70315  \"An International Film Festival with an Arab H...   \n",
       "70316  \"Age Shall Not Weary Them\" - Shakespeare and M...   \n",
       "\n",
       "                                                 authors  \\\n",
       "0                    Darin Graham, ContributorJournalist   \n",
       "1      Mycah Hazel, Contributorblogger, equal opportu...   \n",
       "2      Dana Brownlee, ContributorPresident of Profess...   \n",
       "3                                          Elyse Wanshel   \n",
       "4                                         Nina Golgowski   \n",
       "...                                                  ...   \n",
       "70312           Jackie K. Cooper, ContributorFilm Critic   \n",
       "70313  Rick Horowitz, ContributorMilwaukee Public TV ...   \n",
       "70314           Jackie K. Cooper, ContributorFilm Critic   \n",
       "70315        E. Nina Rothe, ContributorCultural Activist   \n",
       "70316  Paul_Smith, ContributorDirector, British Counc...   \n",
       "\n",
       "                                                    link  \\\n",
       "0      https://www.huffingtonpost.com/entry/we-shall-...   \n",
       "1      https://www.huffingtonpost.com/entry/to-the-bo...   \n",
       "2      https://www.huffingtonpost.com/entry/im-sorryt...   \n",
       "3      https://www.huffingtonpost.com/entry/will-grac...   \n",
       "4      https://www.huffingtonpost.com/entry/wild-boar...   \n",
       "...                                                  ...   \n",
       "70312  https://www.huffingtonpost.com/entry/bosch-is-...   \n",
       "70313  https://www.huffingtonpost.com/entry/black-liv...   \n",
       "70314  https://www.huffingtonpost.com/entry/bachelors...   \n",
       "70315  https://www.huffingtonpost.com/entry/an-intern...   \n",
       "70316  https://www.huffingtonpost.com/entry/age-shall...   \n",
       "\n",
       "                                       short_description       date  \n",
       "0      Thousands of activists descended on London to ... 2017-01-25  \n",
       "1      Oftentimes, films or TV shows about eating dis... 2017-07-18  \n",
       "2      Unfortunately, I was one of those frustrated p... 2017-04-10  \n",
       "3      It's about to be a lot easier for kids in Mike... 2018-04-02  \n",
       "4                             Get this pig in a blanket! 2016-02-03  \n",
       "...                                                  ...        ...  \n",
       "70312                                                    2016-04-24  \n",
       "70313  It's pretty easy to understand. Unless you're ... 2016-01-23  \n",
       "70314                                                    2016-08-13  \n",
       "70315                                                    2016-12-11  \n",
       "70316  It's a phrase that resonates as we remember th... 2016-05-30  \n",
       "\n",
       "[70317 rows x 7 columns]"
      ]
     },
     "execution_count": 15,
     "metadata": {},
     "output_type": "execute_result"
    }
   ],
   "source": [
    "raw_df.reset_index(inplace = True)\n",
    "raw_df"
   ]
  },
  {
   "cell_type": "markdown",
   "id": "a7fe5789",
   "metadata": {},
   "source": [
    "#### Removing all the short headline articles"
   ]
  },
  {
   "cell_type": "code",
   "execution_count": 16,
   "id": "0b9e5625",
   "metadata": {},
   "outputs": [],
   "source": [
    "counts = raw_df.category.value_counts()"
   ]
  },
  {
   "cell_type": "code",
   "execution_count": 17,
   "id": "b5d315a7",
   "metadata": {},
   "outputs": [
    {
     "name": "stdout",
     "output_type": "stream",
     "text": [
      "Total number of articles after removing headlines with fewer than 5 words: 67952\n"
     ]
    }
   ],
   "source": [
    "raw_df = raw_df[raw_df['headline'].str.split().apply(len) > 5]\n",
    "total_articles = len(raw_df)\n",
    "print(\"Total number of articles after removing headlines with fewer than 5 words:\", total_articles)"
   ]
  },
  {
   "cell_type": "code",
   "execution_count": 18,
   "id": "c28d5085",
   "metadata": {},
   "outputs": [
    {
     "data": {
      "text/plain": [
       "0                 WOMEN\n",
       "1        HEALTHY LIVING\n",
       "2              BUSINESS\n",
       "3          QUEER VOICES\n",
       "4            WEIRD NEWS\n",
       "              ...      \n",
       "70312     ENTERTAINMENT\n",
       "70313          POLITICS\n",
       "70314     ENTERTAINMENT\n",
       "70315     ENTERTAINMENT\n",
       "70316              ARTS\n",
       "Name: category, Length: 67952, dtype: object"
      ]
     },
     "execution_count": 18,
     "metadata": {},
     "output_type": "execute_result"
    }
   ],
   "source": [
    "raw_df['category']"
   ]
  },
  {
   "cell_type": "markdown",
   "id": "be21d1a4",
   "metadata": {},
   "source": [
    "## Data Visualization"
   ]
  },
  {
   "cell_type": "code",
   "execution_count": 19,
   "id": "206df8a1",
   "metadata": {},
   "outputs": [
    {
     "data": {
      "image/png": "[encoded data removed]",
      "text/plain": [
       "<Figure size 1100x700 with 1 Axes>"
      ]
     },
     "metadata": {},
     "output_type": "display_data"
    }
   ],
   "source": [
    "category_counts = raw_df[\"category\"].value_counts()\n",
    "\n",
    "plt.figure(figsize=(11, 7))\n",
    "plt.bar(category_counts.index, category_counts.values)\n",
    "plt.title(\"Distribution of articles category-wise\")\n",
    "plt.xlabel(\"Category name\")\n",
    "plt.ylabel(\"Number of articles\")\n",
    "plt.xticks(rotation=80)\n",
    "plt.show()"
   ]
  },
  {
   "cell_type": "code",
   "execution_count": 20,
   "id": "7b622c37",
   "metadata": {},
   "outputs": [
    {
     "data": {
      "text/plain": [
       "1     7443\n",
       "2     6666\n",
       "3     6965\n",
       "4     6520\n",
       "5     6526\n",
       "6     5059\n",
       "7     4936\n",
       "8     5096\n",
       "9     4678\n",
       "10    4931\n",
       "11    4664\n",
       "12    4468\n",
       "Name: date, dtype: int64"
      ]
     },
     "execution_count": 20,
     "metadata": {},
     "output_type": "execute_result"
    }
   ],
   "source": [
    "news_articles_per_month = raw_df['date'].dt.month.value_counts().sort_index()\n",
    "news_articles_per_month\n"
   ]
  },
  {
   "cell_type": "code",
   "execution_count": 21,
   "id": "90b0fbba",
   "metadata": {},
   "outputs": [
    {
     "data": {
      "image/png": "[encoded data removed]",
      "text/plain": [
       "<Figure size 500x500 with 1 Axes>"
      ]
     },
     "metadata": {},
     "output_type": "display_data"
    }
   ],
   "source": [
    "news_articles_per_month.plot(kind='bar', figsize=(5, 5))\n",
    "plt.title(\"Distribution of articles month-wise\")\n",
    "plt.xlabel(\"Month\")\n",
    "plt.ylabel(\"Number of articles\")\n",
    "plt.show()"
   ]
  },
  {
   "cell_type": "code",
   "execution_count": 22,
   "id": "12c07b2e",
   "metadata": {},
   "outputs": [],
   "source": [
    "raw_df_temp = raw_df.copy()"
   ]
  },
  {
   "cell_type": "code",
   "execution_count": 23,
   "id": "d725f0ae",
   "metadata": {},
   "outputs": [
    {
     "name": "stdout",
     "output_type": "stream",
     "text": [
      "0\n",
      "1000\n",
      "2000\n",
      "3000\n",
      "4000\n",
      "5000\n",
      "6000\n",
      "7000\n",
      "8000\n",
      "9000\n",
      "10000\n",
      "11000\n",
      "12000\n",
      "13000\n",
      "14000\n",
      "15000\n",
      "16000\n",
      "17000\n",
      "18000\n",
      "19000\n",
      "20000\n",
      "21000\n",
      "22000\n",
      "23000\n",
      "24000\n",
      "25000\n",
      "26000\n",
      "27000\n",
      "28000\n",
      "29000\n",
      "30000\n",
      "31000\n",
      "32000\n",
      "33000\n",
      "34000\n",
      "35000\n",
      "36000\n",
      "37000\n",
      "38000\n",
      "39000\n",
      "40000\n",
      "41000\n",
      "42000\n",
      "43000\n",
      "44000\n",
      "45000\n",
      "46000\n",
      "47000\n",
      "48000\n",
      "49000\n",
      "50000\n",
      "51000\n",
      "52000\n",
      "53000\n",
      "54000\n",
      "55000\n",
      "56000\n",
      "57000\n",
      "58000\n",
      "59000\n",
      "60000\n",
      "61000\n",
      "62000\n",
      "63000\n",
      "64000\n",
      "65000\n",
      "66000\n",
      "67000\n"
     ]
    }
   ],
   "source": [
    "# Set of stopwords in English\n",
    "stop_words = set(stopwords.words('english'))\n",
    "\n",
    "# Loop through each headline in the DataFrame\n",
    "for i, headline in enumerate(raw_df_temp[\"headline\"]):\n",
    "    processed_words = []\n",
    "    \n",
    "    # Split the headline into individual words\n",
    "    for word in headline.split():\n",
    "        # Remove punctuation and convert to lowercase\n",
    "        word = ''.join(e for e in word if e.isalnum())\n",
    "        word = word.lower()\n",
    "        \n",
    "        # Check if word is not a stopword\n",
    "        if word not in stop_words:\n",
    "            processed_words.append(word)\n",
    "    \n",
    "    # Join the processed words and assign back to the DataFrame\n",
    "    raw_df_temp.at[i, \"headline\"] = ' '.join(processed_words)\n",
    "    \n",
    "    # Print progress every 1000 iterations\n",
    "    if i % 1000 == 0:\n",
    "        print(i)\n"
   ]
  },
  {
   "cell_type": "markdown",
   "id": "b7deea40",
   "metadata": {},
   "source": [
    "#### Lemmatization"
   ]
  },
  {
   "cell_type": "code",
   "execution_count": 26,
   "id": "aa67f75c",
   "metadata": {},
   "outputs": [
    {
     "name": "stderr",
     "output_type": "stream",
     "text": [
      "[nltk_data] Downloading package wordnet to C:\\Users\\Ojasvi\n",
      "[nltk_data]     Doye\\AppData\\Roaming\\nltk_data...\n",
      "[nltk_data]   Package wordnet is already up-to-date!\n",
      "[nltk_data] Downloading package omw-1.4 to C:\\Users\\Ojasvi\n",
      "[nltk_data]     Doye\\AppData\\Roaming\\nltk_data...\n",
      "[nltk_data]   Package omw-1.4 is already up-to-date!\n"
     ]
    },
    {
     "name": "stdout",
     "output_type": "stream",
     "text": [
      "0\n",
      "1000\n",
      "2000\n",
      "3000\n",
      "4000\n",
      "5000\n",
      "6000\n",
      "7000\n",
      "8000\n",
      "9000\n",
      "10000\n",
      "11000\n",
      "12000\n",
      "13000\n",
      "14000\n",
      "15000\n",
      "16000\n",
      "17000\n",
      "18000\n",
      "19000\n",
      "20000\n",
      "21000\n",
      "22000\n",
      "23000\n",
      "24000\n",
      "25000\n",
      "26000\n",
      "27000\n",
      "28000\n",
      "29000\n",
      "30000\n",
      "31000\n",
      "32000\n",
      "33000\n",
      "34000\n",
      "35000\n",
      "36000\n",
      "37000\n",
      "38000\n",
      "39000\n",
      "40000\n",
      "41000\n",
      "42000\n",
      "43000\n",
      "44000\n",
      "45000\n",
      "46000\n",
      "47000\n",
      "48000\n",
      "49000\n",
      "50000\n",
      "51000\n",
      "52000\n",
      "53000\n",
      "54000\n",
      "55000\n",
      "56000\n",
      "57000\n",
      "58000\n",
      "59000\n",
      "60000\n",
      "61000\n",
      "62000\n",
      "63000\n",
      "64000\n",
      "65000\n",
      "66000\n",
      "67000\n",
      "68000\n",
      "69000\n",
      "70000\n"
     ]
    }
   ],
   "source": [
    "nltk.download('wordnet')\n",
    "nltk.download('omw-1.4')\n",
    "\n",
    "lemmatizer = WordNetLemmatizer()\n",
    "\n",
    "for i in range(len(raw_df_temp[\"headline\"])):\n",
    "    if i in raw_df_temp.index:\n",
    "        string = \"\"\n",
    "        for w in word_tokenize(raw_df_temp[\"headline\"][i]):\n",
    "            string += lemmatizer.lemmatize(w, pos=\"v\") + \" \"\n",
    "        raw_df_temp.at[i, \"headline\"] = string.strip()\n",
    "    if i % 1000 == 0:\n",
    "        print(i)\n"
   ]
  },
  {
   "cell_type": "markdown",
   "id": "d1e43ee8",
   "metadata": {},
   "source": [
    "## TF-IDF method"
   ]
  },
  {
   "cell_type": "code",
   "execution_count": 28,
   "id": "35aea267",
   "metadata": {},
   "outputs": [
    {
     "name": "stdout",
     "output_type": "stream",
     "text": [
      "Defaulting to user installation because normal site-packages is not writeable\n",
      "Requirement already satisfied: scikit-learn in c:\\programdata\\anaconda3\\lib\\site-packages (1.2.2)\n",
      "Requirement already satisfied: numpy>=1.17.3 in c:\\programdata\\anaconda3\\lib\\site-packages (from scikit-learn) (1.24.3)\n",
      "Requirement already satisfied: scipy>=1.3.2 in c:\\programdata\\anaconda3\\lib\\site-packages (from scikit-learn) (1.10.1)\n",
      "Requirement already satisfied: joblib>=1.1.1 in c:\\programdata\\anaconda3\\lib\\site-packages (from scikit-learn) (1.2.0)\n",
      "Requirement already satisfied: threadpoolctl>=2.0.0 in c:\\programdata\\anaconda3\\lib\\site-packages (from scikit-learn) (2.2.0)\n"
     ]
    }
   ],
   "source": [
    "!pip install scikit-learn\n",
    "\n",
    "tfidf_headline_vectorizer = TfidfVectorizer(min_df = 0)\n",
    "tfidf_headline_features = tfidf_headline_vectorizer.fit_transform(raw_df_temp['headline'])"
   ]
  },
  {
   "cell_type": "code",
   "execution_count": 29,
   "id": "c290433f",
   "metadata": {},
   "outputs": [
    {
     "name": "stdout",
     "output_type": "stream",
     "text": [
      "============================== Queried article details ==============================\n",
      "headline: ‘Brooklyn Nine-Nine’ Finds New TV Home, Stars And Fans Rejoice\n",
      "\n",
      " ========================= Recommended articles =======================\n"
     ]
    },
    {
     "data": {
      "text/html": [
       "<div>\n",
       "<style scoped>\n",
       "    .dataframe tbody tr th:only-of-type {\n",
       "        vertical-align: middle;\n",
       "    }\n",
       "\n",
       "    .dataframe tbody tr th {\n",
       "        vertical-align: top;\n",
       "    }\n",
       "\n",
       "    .dataframe thead th {\n",
       "        text-align: right;\n",
       "    }\n",
       "</style>\n",
       "<table border=\"1\" class=\"dataframe\">\n",
       "  <thead>\n",
       "    <tr style=\"text-align: right;\">\n",
       "      <th></th>\n",
       "      <th>date</th>\n",
       "      <th>headline</th>\n",
       "    </tr>\n",
       "  </thead>\n",
       "  <tbody>\n",
       "    <tr>\n",
       "      <th>134</th>\n",
       "      <td>2018-05-12</td>\n",
       "      <td>‘Brooklyn Nine-Nine’ Finds New TV Home, Stars ...</td>\n",
       "    </tr>\n",
       "    <tr>\n",
       "      <th>12796</th>\n",
       "      <td>2017-01-13</td>\n",
       "      <td>These Science-Backed Tips Will Help You Demoli...</td>\n",
       "    </tr>\n",
       "    <tr>\n",
       "      <th>28397</th>\n",
       "      <td>2016-06-29</td>\n",
       "      <td>Obama: Donald Trump A Populist? LOL.</td>\n",
       "    </tr>\n",
       "    <tr>\n",
       "      <th>9784</th>\n",
       "      <td>2018-02-02</td>\n",
       "      <td>Trump Accuses His Justice Department, FBI Of F...</td>\n",
       "    </tr>\n",
       "    <tr>\n",
       "      <th>52051</th>\n",
       "      <td>2016-08-30</td>\n",
       "      <td>Donald Trump’s Lack Of Support Among Black Vot...</td>\n",
       "    </tr>\n",
       "    <tr>\n",
       "      <th>6609</th>\n",
       "      <td>2018-02-09</td>\n",
       "      <td>U.S. Bobsled Team Pays Tribute To Late Gold Me...</td>\n",
       "    </tr>\n",
       "    <tr>\n",
       "      <th>9778</th>\n",
       "      <td>2017-04-17</td>\n",
       "      <td>Trump Adding Former Lobbyists To Swamp, Giving...</td>\n",
       "    </tr>\n",
       "    <tr>\n",
       "      <th>6770</th>\n",
       "      <td>2016-02-12</td>\n",
       "      <td>Two Latinas At Forefront Of Historic Science D...</td>\n",
       "    </tr>\n",
       "    <tr>\n",
       "      <th>4583</th>\n",
       "      <td>2016-06-14</td>\n",
       "      <td>Watch These Dogs React To A Human Who Barks As...</td>\n",
       "    </tr>\n",
       "    <tr>\n",
       "      <th>42416</th>\n",
       "      <td>2016-01-18</td>\n",
       "      <td>How To Start Your Day Off Right In 90 Simple S...</td>\n",
       "    </tr>\n",
       "    <tr>\n",
       "      <th>48577</th>\n",
       "      <td>2016-05-20</td>\n",
       "      <td>Former Refugee Fights For Her Dream To Abolish...</td>\n",
       "    </tr>\n",
       "  </tbody>\n",
       "</table>\n",
       "</div>"
      ],
      "text/plain": [
       "            date                                           headline\n",
       "134   2018-05-12  ‘Brooklyn Nine-Nine’ Finds New TV Home, Stars ...\n",
       "12796 2017-01-13  These Science-Backed Tips Will Help You Demoli...\n",
       "28397 2016-06-29               Obama: Donald Trump A Populist? LOL.\n",
       "9784  2018-02-02  Trump Accuses His Justice Department, FBI Of F...\n",
       "52051 2016-08-30  Donald Trump’s Lack Of Support Among Black Vot...\n",
       "6609  2018-02-09  U.S. Bobsled Team Pays Tribute To Late Gold Me...\n",
       "9778  2017-04-17  Trump Adding Former Lobbyists To Swamp, Giving...\n",
       "6770  2016-02-12  Two Latinas At Forefront Of Historic Science D...\n",
       "4583  2016-06-14  Watch These Dogs React To A Human Who Barks As...\n",
       "42416 2016-01-18  How To Start Your Day Off Right In 90 Simple S...\n",
       "48577 2016-05-20  Former Refugee Fights For Her Dream To Abolish..."
      ]
     },
     "execution_count": 29,
     "metadata": {},
     "output_type": "execute_result"
    }
   ],
   "source": [
    "def tfidf_based_model(row_index, num_similar_items):\n",
    "    couple_dist = pairwise_distances(tfidf_headline_features, tfidf_headline_features[row_index])\n",
    "    indices = np.argsort(couple_dist.ravel())[1:num_similar_items+1]\n",
    "    \n",
    "    recommended_articles = raw_df.iloc[indices][[\"date\", \"headline\"]]\n",
    "    queried_article_headline = raw_df[\"headline\"].iloc[indices[0]]\n",
    "    \n",
    "    print(\"=\"*30, \"Queried article details\", \"=\"*30)\n",
    "    print('headline:', queried_article_headline)\n",
    "    print(\"\\n\", \"=\"*25, \"Recommended articles\", \"=\"*23)\n",
    "    \n",
    "    return recommended_articles\n",
    "\n",
    "tfidf_based_model(133, 11)"
   ]
  },
  {
   "cell_type": "code",
   "execution_count": null,
   "id": "46316599",
   "metadata": {},
   "outputs": [],
   "source": []
  }
 ],
 "metadata": {
  "kernelspec": {
   "display_name": "Python 3 (ipykernel)",
   "language": "python",
   "name": "python3"
  },
  "language_info": {
   "codemirror_mode": {
    "name": "ipython",
    "version": 3
   },
   "file_extension": ".py",
   "mimetype": "text/x-python",
   "name": "python",
   "nbconvert_exporter": "python",
   "pygments_lexer": "ipython3",
   "version": "3.11.3"
  }
 },
 "nbformat": 4,
 "nbformat_minor": 5
}
